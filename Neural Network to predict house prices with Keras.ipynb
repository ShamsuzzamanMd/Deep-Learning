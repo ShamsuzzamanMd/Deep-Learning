{
 "cells": [
  {
   "cell_type": "markdown",
   "metadata": {},
   "source": [
    "# Introduction\n",
    "This project has been carried out on a hosuing price data set. the object of this project was to prediction of a house price above the median or not. An oprnsource library called \"keras\" has been used to build the prediction model. We have used a Deep Learning pipeline through a Neural Network. The following steps have been use for the networks.\n",
    "\n",
    "Data source : https://drive.google.com/file/d/1GfvKA0qznNVknghV4botnNxyH-KvODOC/view"
   ]
  },
  {
   "cell_type": "markdown",
   "metadata": {},
   "source": [
    "##### - Exploring and Processing the Data\n",
    "##### - Building and Training our Neural Network\n",
    "##### - Visualizing Loss and Accuracy\n",
    "##### - Adding Regularization to our Neural Network"
   ]
  },
  {
   "cell_type": "code",
   "execution_count": null,
   "metadata": {},
   "outputs": [],
   "source": []
  },
  {
   "cell_type": "markdown",
   "metadata": {},
   "source": [
    "# 1. Exploring and Processing of the Data"
   ]
  },
  {
   "cell_type": "markdown",
   "metadata": {},
   "source": [
    "#### Data reading\n",
    "#### X and Y features identification\n",
    "#### Data scaling or Normalization\n",
    "#### train, validation, and test set splitting"
   ]
  },
  {
   "cell_type": "markdown",
   "metadata": {},
   "source": [
    "#### 1.1 Data reading"
   ]
  },
  {
   "cell_type": "code",
   "execution_count": 1,
   "metadata": {},
   "outputs": [],
   "source": [
    "import pandas as pd\n",
    "\n",
    "# data reading\n",
    "df = pd.read_csv(\"housepricedata.csv\")"
   ]
  },
  {
   "cell_type": "code",
   "execution_count": 2,
   "metadata": {},
   "outputs": [
    {
     "data": {
      "text/html": [
       "<div>\n",
       "<style scoped>\n",
       "    .dataframe tbody tr th:only-of-type {\n",
       "        vertical-align: middle;\n",
       "    }\n",
       "\n",
       "    .dataframe tbody tr th {\n",
       "        vertical-align: top;\n",
       "    }\n",
       "\n",
       "    .dataframe thead th {\n",
       "        text-align: right;\n",
       "    }\n",
       "</style>\n",
       "<table border=\"1\" class=\"dataframe\">\n",
       "  <thead>\n",
       "    <tr style=\"text-align: right;\">\n",
       "      <th></th>\n",
       "      <th>LotArea</th>\n",
       "      <th>OverallQual</th>\n",
       "      <th>OverallCond</th>\n",
       "      <th>TotalBsmtSF</th>\n",
       "      <th>FullBath</th>\n",
       "      <th>HalfBath</th>\n",
       "      <th>BedroomAbvGr</th>\n",
       "      <th>TotRmsAbvGrd</th>\n",
       "      <th>Fireplaces</th>\n",
       "      <th>GarageArea</th>\n",
       "      <th>AboveMedianPrice</th>\n",
       "    </tr>\n",
       "  </thead>\n",
       "  <tbody>\n",
       "    <tr>\n",
       "      <td>0</td>\n",
       "      <td>8450</td>\n",
       "      <td>7</td>\n",
       "      <td>5</td>\n",
       "      <td>856</td>\n",
       "      <td>2</td>\n",
       "      <td>1</td>\n",
       "      <td>3</td>\n",
       "      <td>8</td>\n",
       "      <td>0</td>\n",
       "      <td>548</td>\n",
       "      <td>1</td>\n",
       "    </tr>\n",
       "    <tr>\n",
       "      <td>1</td>\n",
       "      <td>9600</td>\n",
       "      <td>6</td>\n",
       "      <td>8</td>\n",
       "      <td>1262</td>\n",
       "      <td>2</td>\n",
       "      <td>0</td>\n",
       "      <td>3</td>\n",
       "      <td>6</td>\n",
       "      <td>1</td>\n",
       "      <td>460</td>\n",
       "      <td>1</td>\n",
       "    </tr>\n",
       "    <tr>\n",
       "      <td>2</td>\n",
       "      <td>11250</td>\n",
       "      <td>7</td>\n",
       "      <td>5</td>\n",
       "      <td>920</td>\n",
       "      <td>2</td>\n",
       "      <td>1</td>\n",
       "      <td>3</td>\n",
       "      <td>6</td>\n",
       "      <td>1</td>\n",
       "      <td>608</td>\n",
       "      <td>1</td>\n",
       "    </tr>\n",
       "    <tr>\n",
       "      <td>3</td>\n",
       "      <td>9550</td>\n",
       "      <td>7</td>\n",
       "      <td>5</td>\n",
       "      <td>756</td>\n",
       "      <td>1</td>\n",
       "      <td>0</td>\n",
       "      <td>3</td>\n",
       "      <td>7</td>\n",
       "      <td>1</td>\n",
       "      <td>642</td>\n",
       "      <td>0</td>\n",
       "    </tr>\n",
       "    <tr>\n",
       "      <td>4</td>\n",
       "      <td>14260</td>\n",
       "      <td>8</td>\n",
       "      <td>5</td>\n",
       "      <td>1145</td>\n",
       "      <td>2</td>\n",
       "      <td>1</td>\n",
       "      <td>4</td>\n",
       "      <td>9</td>\n",
       "      <td>1</td>\n",
       "      <td>836</td>\n",
       "      <td>1</td>\n",
       "    </tr>\n",
       "  </tbody>\n",
       "</table>\n",
       "</div>"
      ],
      "text/plain": [
       "   LotArea  OverallQual  OverallCond  TotalBsmtSF  FullBath  HalfBath  \\\n",
       "0     8450            7            5          856         2         1   \n",
       "1     9600            6            8         1262         2         0   \n",
       "2    11250            7            5          920         2         1   \n",
       "3     9550            7            5          756         1         0   \n",
       "4    14260            8            5         1145         2         1   \n",
       "\n",
       "   BedroomAbvGr  TotRmsAbvGrd  Fireplaces  GarageArea  AboveMedianPrice  \n",
       "0             3             8           0         548                 1  \n",
       "1             3             6           1         460                 1  \n",
       "2             3             6           1         608                 1  \n",
       "3             3             7           1         642                 0  \n",
       "4             4             9           1         836                 1  "
      ]
     },
     "execution_count": 2,
     "metadata": {},
     "output_type": "execute_result"
    }
   ],
   "source": [
    "# data set view\n",
    "df.head()"
   ]
  },
  {
   "cell_type": "code",
   "execution_count": 3,
   "metadata": {},
   "outputs": [
    {
     "data": {
      "text/plain": [
       "Index(['LotArea', 'OverallQual', 'OverallCond', 'TotalBsmtSF', 'FullBath',\n",
       "       'HalfBath', 'BedroomAbvGr', 'TotRmsAbvGrd', 'Fireplaces', 'GarageArea',\n",
       "       'AboveMedianPrice'],\n",
       "      dtype='object')"
      ]
     },
     "execution_count": 3,
     "metadata": {},
     "output_type": "execute_result"
    }
   ],
   "source": [
    "# columns\n",
    "df.columns"
   ]
  },
  {
   "cell_type": "code",
   "execution_count": 4,
   "metadata": {},
   "outputs": [
    {
     "name": "stdout",
     "output_type": "stream",
     "text": [
      "<class 'pandas.core.frame.DataFrame'>\n",
      "RangeIndex: 1460 entries, 0 to 1459\n",
      "Data columns (total 11 columns):\n",
      "LotArea             1460 non-null int64\n",
      "OverallQual         1460 non-null int64\n",
      "OverallCond         1460 non-null int64\n",
      "TotalBsmtSF         1460 non-null int64\n",
      "FullBath            1460 non-null int64\n",
      "HalfBath            1460 non-null int64\n",
      "BedroomAbvGr        1460 non-null int64\n",
      "TotRmsAbvGrd        1460 non-null int64\n",
      "Fireplaces          1460 non-null int64\n",
      "GarageArea          1460 non-null int64\n",
      "AboveMedianPrice    1460 non-null int64\n",
      "dtypes: int64(11)\n",
      "memory usage: 125.6 KB\n"
     ]
    }
   ],
   "source": [
    "# brief info\n",
    "df.info()"
   ]
  },
  {
   "cell_type": "code",
   "execution_count": 5,
   "metadata": {
    "scrolled": true
   },
   "outputs": [
    {
     "data": {
      "text/plain": [
       "array([[ 8450,     7,     5, ...,     0,   548,     1],\n",
       "       [ 9600,     6,     8, ...,     1,   460,     1],\n",
       "       [11250,     7,     5, ...,     1,   608,     1],\n",
       "       ...,\n",
       "       [ 9042,     7,     9, ...,     2,   252,     1],\n",
       "       [ 9717,     5,     6, ...,     0,   240,     0],\n",
       "       [ 9937,     5,     6, ...,     0,   276,     0]])"
      ]
     },
     "execution_count": 5,
     "metadata": {},
     "output_type": "execute_result"
    }
   ],
   "source": [
    "# data frame to arrays for computational analysis\n",
    "dataset = df.values\n",
    "dataset"
   ]
  },
  {
   "cell_type": "markdown",
   "metadata": {},
   "source": [
    "#### 1.2 X and Y features"
   ]
  },
  {
   "cell_type": "code",
   "execution_count": 6,
   "metadata": {},
   "outputs": [],
   "source": [
    "# Let´s define X and Y features\n",
    "\n",
    "X = dataset[:,0:10]\n",
    "Y = dataset[:,10]"
   ]
  },
  {
   "cell_type": "code",
   "execution_count": null,
   "metadata": {},
   "outputs": [],
   "source": []
  },
  {
   "cell_type": "markdown",
   "metadata": {},
   "source": [
    "#### 1.3 Normalization/Scalling"
   ]
  },
  {
   "cell_type": "markdown",
   "metadata": {},
   "source": [
    "We can see here in this dataset, there is a scalling problem like, some values are in thousands, some are 0 to 1. However, let´s do normalization/scalling by using sklearn."
   ]
  },
  {
   "cell_type": "code",
   "execution_count": 7,
   "metadata": {},
   "outputs": [],
   "source": [
    "# sklearn import\n",
    "from sklearn import preprocessing"
   ]
  },
  {
   "cell_type": "markdown",
   "metadata": {},
   "source": [
    "from prepocessing package of sklearn, we can use \"min-max scaler\" function. "
   ]
  },
  {
   "cell_type": "code",
   "execution_count": 8,
   "metadata": {},
   "outputs": [],
   "source": [
    "min_max_scaler = preprocessing.MinMaxScaler()\n",
    "X_scale = min_max_scaler.fit_transform(X)\n",
    "#X_scale"
   ]
  },
  {
   "cell_type": "code",
   "execution_count": null,
   "metadata": {},
   "outputs": [],
   "source": []
  },
  {
   "cell_type": "markdown",
   "metadata": {},
   "source": [
    "#### 1.4 Train Test Split"
   ]
  },
  {
   "cell_type": "code",
   "execution_count": 9,
   "metadata": {},
   "outputs": [],
   "source": [
    "from sklearn.model_selection import train_test_split"
   ]
  },
  {
   "cell_type": "markdown",
   "metadata": {},
   "source": [
    "Now the dataset spliting"
   ]
  },
  {
   "cell_type": "code",
   "execution_count": 10,
   "metadata": {},
   "outputs": [],
   "source": [
    "X_train, X_val_and_test, Y_train, Y_val_and_test = train_test_split(X_scale, Y, test_size=0.3)"
   ]
  },
  {
   "cell_type": "markdown",
   "metadata": {},
   "source": [
    "Now again let´s split the validation and test (val_and_test) data into..."
   ]
  },
  {
   "cell_type": "code",
   "execution_count": 11,
   "metadata": {},
   "outputs": [],
   "source": [
    "X_val, X_test, Y_val, Y_test = train_test_split(X_val_and_test,Y_val_and_test, test_size=0.5)"
   ]
  },
  {
   "cell_type": "code",
   "execution_count": 12,
   "metadata": {},
   "outputs": [
    {
     "name": "stdout",
     "output_type": "stream",
     "text": [
      "(1022, 10) (219, 10) (219, 10) (1022,) (219,) (219,)\n"
     ]
    }
   ],
   "source": [
    "# Shape of the data split\n",
    "print(X_train.shape, X_val.shape, X_test.shape, Y_train.shape, Y_val.shape, Y_test.shape)"
   ]
  },
  {
   "cell_type": "code",
   "execution_count": null,
   "metadata": {},
   "outputs": [],
   "source": []
  },
  {
   "cell_type": "markdown",
   "metadata": {},
   "source": [
    "# 1.2 Building and Training the Neural Network"
   ]
  },
  {
   "cell_type": "markdown",
   "metadata": {},
   "source": [
    "#### Specifing the model architecture\n",
    "#### Filling the best numbers"
   ]
  },
  {
   "cell_type": "code",
   "execution_count": null,
   "metadata": {},
   "outputs": [],
   "source": []
  },
  {
   "cell_type": "markdown",
   "metadata": {},
   "source": [
    "#### 1.2.1 Specifing the model architecture"
   ]
  },
  {
   "cell_type": "code",
   "execution_count": 13,
   "metadata": {},
   "outputs": [
    {
     "name": "stderr",
     "output_type": "stream",
     "text": [
      "Using TensorFlow backend.\n"
     ]
    }
   ],
   "source": [
    "# keras\n",
    "import tensorflow as tf\n",
    "from tensorflow import keras\n",
    "\n",
    "\n",
    "from keras.models import Sequential\n",
    "from keras.layers import Dense"
   ]
  },
  {
   "cell_type": "code",
   "execution_count": 14,
   "metadata": {},
   "outputs": [],
   "source": [
    "model = tf.keras.Sequential([\n",
    "    keras.layers.Dense(32, activation='relu', input_shape=(10,)),\n",
    "    keras.layers.Dense(32, activation='relu'),\n",
    "    keras.layers.Dense(1, activation='sigmoid'),\n",
    "])"
   ]
  },
  {
   "cell_type": "code",
   "execution_count": null,
   "metadata": {},
   "outputs": [],
   "source": []
  },
  {
   "cell_type": "markdown",
   "metadata": {},
   "source": [
    "##### 1.2.2 Filling the best numbers"
   ]
  },
  {
   "cell_type": "markdown",
   "metadata": {},
   "source": [
    "- Right optimizer\n",
    "- Loss function\n",
    "- Metrics to track apart from the loss function"
   ]
  },
  {
   "cell_type": "code",
   "execution_count": 15,
   "metadata": {},
   "outputs": [],
   "source": [
    "# configuring the model\n",
    "model.compile(optimizer=\"sgd\", loss=\"binary_crossentropy\", metrics=[\"accuracy\"])"
   ]
  },
  {
   "cell_type": "markdown",
   "metadata": {},
   "source": [
    "- sgd refers to Stochastic Gradient Descent, but here it refers to \"mini-batch grdient descent\"\n",
    "- binary_crossentropy refers to the outputs that take the values 0 or 1 \n",
    "- accuracy : tracking accuracy on top of loss function"
   ]
  },
  {
   "cell_type": "code",
   "execution_count": 16,
   "metadata": {},
   "outputs": [
    {
     "name": "stdout",
     "output_type": "stream",
     "text": [
      "Train on 1022 samples, validate on 219 samples\n",
      "Epoch 1/100\n",
      "WARNING:tensorflow:From /opt/conda/lib/python3.7/site-packages/tensorflow_core/python/ops/nn_impl.py:183: where (from tensorflow.python.ops.array_ops) is deprecated and will be removed in a future version.\n",
      "Instructions for updating:\n",
      "Use tf.where in 2.0, which has the same broadcast rule as np.where\n",
      "WARNING:tensorflow:Entity <function Function._initialize_uninitialized_variables.<locals>.initialize_variables at 0x7fc29015f598> could not be transformed and will be executed as-is. Please report this to the AutoGraph team. When filing the bug, set the verbosity to 10 (on Linux, `export AUTOGRAPH_VERBOSITY=10`) and attach the full output. Cause: module 'gast' has no attribute 'Num'\n",
      "WARNING: Entity <function Function._initialize_uninitialized_variables.<locals>.initialize_variables at 0x7fc29015f598> could not be transformed and will be executed as-is. Please report this to the AutoGraph team. When filing the bug, set the verbosity to 10 (on Linux, `export AUTOGRAPH_VERBOSITY=10`) and attach the full output. Cause: module 'gast' has no attribute 'Num'\n",
      "1022/1022 [==============================] - 1s 756us/sample - loss: 0.6811 - accuracy: 0.5460 - val_loss: 0.6799 - val_accuracy: 0.5616\n",
      "Epoch 2/100\n",
      "1022/1022 [==============================] - 0s 107us/sample - loss: 0.6750 - accuracy: 0.5685 - val_loss: 0.6737 - val_accuracy: 0.5708\n",
      "Epoch 3/100\n",
      "1022/1022 [==============================] - 0s 107us/sample - loss: 0.6688 - accuracy: 0.6076 - val_loss: 0.6683 - val_accuracy: 0.6210\n",
      "Epoch 4/100\n",
      "1022/1022 [==============================] - 0s 119us/sample - loss: 0.6636 - accuracy: 0.6477 - val_loss: 0.6635 - val_accuracy: 0.6530\n",
      "Epoch 5/100\n",
      "1022/1022 [==============================] - 0s 109us/sample - loss: 0.6588 - accuracy: 0.6517 - val_loss: 0.6588 - val_accuracy: 0.6667\n",
      "Epoch 6/100\n",
      "1022/1022 [==============================] - 0s 97us/sample - loss: 0.6539 - accuracy: 0.6908 - val_loss: 0.6539 - val_accuracy: 0.6986\n",
      "Epoch 7/100\n",
      "1022/1022 [==============================] - 0s 106us/sample - loss: 0.6489 - accuracy: 0.7094 - val_loss: 0.6486 - val_accuracy: 0.7078\n",
      "Epoch 8/100\n",
      "1022/1022 [==============================] - 0s 109us/sample - loss: 0.6436 - accuracy: 0.7153 - val_loss: 0.6431 - val_accuracy: 0.7123\n",
      "Epoch 9/100\n",
      "1022/1022 [==============================] - 0s 113us/sample - loss: 0.6382 - accuracy: 0.7368 - val_loss: 0.6374 - val_accuracy: 0.7123\n",
      "Epoch 10/100\n",
      "1022/1022 [==============================] - 0s 110us/sample - loss: 0.6326 - accuracy: 0.7368 - val_loss: 0.6316 - val_accuracy: 0.7215\n",
      "Epoch 11/100\n",
      "1022/1022 [==============================] - 0s 114us/sample - loss: 0.6268 - accuracy: 0.7495 - val_loss: 0.6256 - val_accuracy: 0.7306\n",
      "Epoch 12/100\n",
      "1022/1022 [==============================] - 0s 96us/sample - loss: 0.6210 - accuracy: 0.7544 - val_loss: 0.6194 - val_accuracy: 0.7397\n",
      "Epoch 13/100\n",
      "1022/1022 [==============================] - 0s 116us/sample - loss: 0.6148 - accuracy: 0.7652 - val_loss: 0.6130 - val_accuracy: 0.7489\n",
      "Epoch 14/100\n",
      "1022/1022 [==============================] - 0s 99us/sample - loss: 0.6083 - accuracy: 0.7691 - val_loss: 0.6064 - val_accuracy: 0.7580\n",
      "Epoch 15/100\n",
      "1022/1022 [==============================] - 0s 108us/sample - loss: 0.6017 - accuracy: 0.7779 - val_loss: 0.5995 - val_accuracy: 0.7717\n",
      "Epoch 16/100\n",
      "1022/1022 [==============================] - 0s 89us/sample - loss: 0.5948 - accuracy: 0.7886 - val_loss: 0.5923 - val_accuracy: 0.7900\n",
      "Epoch 17/100\n",
      "1022/1022 [==============================] - 0s 94us/sample - loss: 0.5877 - accuracy: 0.7955 - val_loss: 0.5847 - val_accuracy: 0.8082\n",
      "Epoch 18/100\n",
      "1022/1022 [==============================] - 0s 82us/sample - loss: 0.5799 - accuracy: 0.8014 - val_loss: 0.5767 - val_accuracy: 0.8265\n",
      "Epoch 19/100\n",
      "1022/1022 [==============================] - 0s 84us/sample - loss: 0.5719 - accuracy: 0.8053 - val_loss: 0.5683 - val_accuracy: 0.8356\n",
      "Epoch 20/100\n",
      "1022/1022 [==============================] - 0s 78us/sample - loss: 0.5635 - accuracy: 0.8082 - val_loss: 0.5597 - val_accuracy: 0.8447\n",
      "Epoch 21/100\n",
      "1022/1022 [==============================] - 0s 88us/sample - loss: 0.5550 - accuracy: 0.8063 - val_loss: 0.5512 - val_accuracy: 0.8447\n",
      "Epoch 22/100\n",
      "1022/1022 [==============================] - 0s 79us/sample - loss: 0.5466 - accuracy: 0.8112 - val_loss: 0.5428 - val_accuracy: 0.8447\n",
      "Epoch 23/100\n",
      "1022/1022 [==============================] - 0s 84us/sample - loss: 0.5382 - accuracy: 0.8121 - val_loss: 0.5344 - val_accuracy: 0.8447\n",
      "Epoch 24/100\n",
      "1022/1022 [==============================] - 0s 116us/sample - loss: 0.5299 - accuracy: 0.8141 - val_loss: 0.5259 - val_accuracy: 0.8402\n",
      "Epoch 25/100\n",
      "1022/1022 [==============================] - 0s 111us/sample - loss: 0.5217 - accuracy: 0.8170 - val_loss: 0.5175 - val_accuracy: 0.8402\n",
      "Epoch 26/100\n",
      "1022/1022 [==============================] - 0s 109us/sample - loss: 0.5135 - accuracy: 0.8180 - val_loss: 0.5092 - val_accuracy: 0.8402\n",
      "Epoch 27/100\n",
      "1022/1022 [==============================] - 0s 113us/sample - loss: 0.5053 - accuracy: 0.8160 - val_loss: 0.5009 - val_accuracy: 0.8447\n",
      "Epoch 28/100\n",
      "1022/1022 [==============================] - 0s 115us/sample - loss: 0.4975 - accuracy: 0.8151 - val_loss: 0.4928 - val_accuracy: 0.8493\n",
      "Epoch 29/100\n",
      "1022/1022 [==============================] - 0s 113us/sample - loss: 0.4893 - accuracy: 0.8219 - val_loss: 0.4847 - val_accuracy: 0.8539\n",
      "Epoch 30/100\n",
      "1022/1022 [==============================] - 0s 112us/sample - loss: 0.4815 - accuracy: 0.8170 - val_loss: 0.4769 - val_accuracy: 0.8721\n",
      "Epoch 31/100\n",
      "1022/1022 [==============================] - 0s 103us/sample - loss: 0.4743 - accuracy: 0.8180 - val_loss: 0.4690 - val_accuracy: 0.8721\n",
      "Epoch 32/100\n",
      "1022/1022 [==============================] - 0s 102us/sample - loss: 0.4664 - accuracy: 0.8190 - val_loss: 0.4614 - val_accuracy: 0.8539\n",
      "Epoch 33/100\n",
      "1022/1022 [==============================] - 0s 115us/sample - loss: 0.4594 - accuracy: 0.8239 - val_loss: 0.4539 - val_accuracy: 0.8721\n",
      "Epoch 34/100\n",
      "1022/1022 [==============================] - 0s 114us/sample - loss: 0.4525 - accuracy: 0.8278 - val_loss: 0.4466 - val_accuracy: 0.8721\n",
      "Epoch 35/100\n",
      "1022/1022 [==============================] - 0s 111us/sample - loss: 0.4452 - accuracy: 0.8307 - val_loss: 0.4394 - val_accuracy: 0.8767\n",
      "Epoch 36/100\n",
      "1022/1022 [==============================] - 0s 105us/sample - loss: 0.4385 - accuracy: 0.8288 - val_loss: 0.4325 - val_accuracy: 0.8630\n",
      "Epoch 37/100\n",
      "1022/1022 [==============================] - 0s 115us/sample - loss: 0.4325 - accuracy: 0.8327 - val_loss: 0.4260 - val_accuracy: 0.8767\n",
      "Epoch 38/100\n",
      "1022/1022 [==============================] - 0s 110us/sample - loss: 0.4264 - accuracy: 0.8297 - val_loss: 0.4192 - val_accuracy: 0.8767\n",
      "Epoch 39/100\n",
      "1022/1022 [==============================] - 0s 119us/sample - loss: 0.4204 - accuracy: 0.8327 - val_loss: 0.4130 - val_accuracy: 0.8721\n",
      "Epoch 40/100\n",
      "1022/1022 [==============================] - 0s 114us/sample - loss: 0.4149 - accuracy: 0.8434 - val_loss: 0.4068 - val_accuracy: 0.8721\n",
      "Epoch 41/100\n",
      "1022/1022 [==============================] - 0s 110us/sample - loss: 0.4091 - accuracy: 0.8386 - val_loss: 0.4010 - val_accuracy: 0.8721\n",
      "Epoch 42/100\n",
      "1022/1022 [==============================] - 0s 106us/sample - loss: 0.4042 - accuracy: 0.8454 - val_loss: 0.3955 - val_accuracy: 0.8721\n",
      "Epoch 43/100\n",
      "1022/1022 [==============================] - 0s 110us/sample - loss: 0.3992 - accuracy: 0.8395 - val_loss: 0.3902 - val_accuracy: 0.8767\n",
      "Epoch 44/100\n",
      "1022/1022 [==============================] - 0s 113us/sample - loss: 0.3946 - accuracy: 0.8493 - val_loss: 0.3849 - val_accuracy: 0.8767\n",
      "Epoch 45/100\n",
      "1022/1022 [==============================] - 0s 103us/sample - loss: 0.3899 - accuracy: 0.8464 - val_loss: 0.3800 - val_accuracy: 0.8813\n",
      "Epoch 46/100\n",
      "1022/1022 [==============================] - 0s 115us/sample - loss: 0.3857 - accuracy: 0.8513 - val_loss: 0.3752 - val_accuracy: 0.8767\n",
      "Epoch 47/100\n",
      "1022/1022 [==============================] - 0s 117us/sample - loss: 0.3816 - accuracy: 0.8523 - val_loss: 0.3706 - val_accuracy: 0.8767\n",
      "Epoch 48/100\n",
      "1022/1022 [==============================] - 0s 118us/sample - loss: 0.3775 - accuracy: 0.8483 - val_loss: 0.3663 - val_accuracy: 0.8767\n",
      "Epoch 49/100\n",
      "1022/1022 [==============================] - 0s 109us/sample - loss: 0.3745 - accuracy: 0.8474 - val_loss: 0.3623 - val_accuracy: 0.8767\n",
      "Epoch 50/100\n",
      "1022/1022 [==============================] - 0s 109us/sample - loss: 0.3703 - accuracy: 0.8483 - val_loss: 0.3581 - val_accuracy: 0.8813\n",
      "Epoch 51/100\n",
      "1022/1022 [==============================] - 0s 105us/sample - loss: 0.3671 - accuracy: 0.8542 - val_loss: 0.3543 - val_accuracy: 0.8767\n",
      "Epoch 52/100\n",
      "1022/1022 [==============================] - 0s 114us/sample - loss: 0.3634 - accuracy: 0.8532 - val_loss: 0.3505 - val_accuracy: 0.8767\n",
      "Epoch 53/100\n",
      "1022/1022 [==============================] - 0s 122us/sample - loss: 0.3605 - accuracy: 0.8542 - val_loss: 0.3470 - val_accuracy: 0.8767\n",
      "Epoch 54/100\n",
      "1022/1022 [==============================] - 0s 117us/sample - loss: 0.3574 - accuracy: 0.8581 - val_loss: 0.3438 - val_accuracy: 0.8767\n",
      "Epoch 55/100\n",
      "1022/1022 [==============================] - 0s 108us/sample - loss: 0.3545 - accuracy: 0.8571 - val_loss: 0.3403 - val_accuracy: 0.8813\n",
      "Epoch 56/100\n",
      "1022/1022 [==============================] - 0s 109us/sample - loss: 0.3522 - accuracy: 0.8532 - val_loss: 0.3375 - val_accuracy: 0.8767\n",
      "Epoch 57/100\n",
      "1022/1022 [==============================] - 0s 108us/sample - loss: 0.3490 - accuracy: 0.8591 - val_loss: 0.3342 - val_accuracy: 0.8813\n",
      "Epoch 58/100\n",
      "1022/1022 [==============================] - 0s 111us/sample - loss: 0.3464 - accuracy: 0.8591 - val_loss: 0.3319 - val_accuracy: 0.8767\n",
      "Epoch 59/100\n",
      "1022/1022 [==============================] - 0s 93us/sample - loss: 0.3443 - accuracy: 0.8611 - val_loss: 0.3290 - val_accuracy: 0.8813\n",
      "Epoch 60/100\n",
      "1022/1022 [==============================] - 0s 80us/sample - loss: 0.3422 - accuracy: 0.8630 - val_loss: 0.3259 - val_accuracy: 0.8813\n",
      "Epoch 61/100\n",
      "1022/1022 [==============================] - 0s 97us/sample - loss: 0.3399 - accuracy: 0.8591 - val_loss: 0.3234 - val_accuracy: 0.8767\n",
      "Epoch 62/100\n",
      "1022/1022 [==============================] - 0s 105us/sample - loss: 0.3378 - accuracy: 0.8611 - val_loss: 0.3212 - val_accuracy: 0.8813\n",
      "Epoch 63/100\n",
      "1022/1022 [==============================] - 0s 110us/sample - loss: 0.3357 - accuracy: 0.8630 - val_loss: 0.3186 - val_accuracy: 0.8767\n",
      "Epoch 64/100\n",
      "1022/1022 [==============================] - 0s 103us/sample - loss: 0.3332 - accuracy: 0.8611 - val_loss: 0.3167 - val_accuracy: 0.8858\n",
      "Epoch 65/100\n",
      "1022/1022 [==============================] - 0s 104us/sample - loss: 0.3320 - accuracy: 0.8611 - val_loss: 0.3142 - val_accuracy: 0.8767\n",
      "Epoch 66/100\n",
      "1022/1022 [==============================] - 0s 102us/sample - loss: 0.3295 - accuracy: 0.8581 - val_loss: 0.3123 - val_accuracy: 0.8767\n",
      "Epoch 67/100\n",
      "1022/1022 [==============================] - 0s 106us/sample - loss: 0.3287 - accuracy: 0.8620 - val_loss: 0.3101 - val_accuracy: 0.8767\n",
      "Epoch 68/100\n",
      "1022/1022 [==============================] - 0s 108us/sample - loss: 0.3265 - accuracy: 0.8611 - val_loss: 0.3081 - val_accuracy: 0.8767\n",
      "Epoch 69/100\n",
      "1022/1022 [==============================] - 0s 105us/sample - loss: 0.3248 - accuracy: 0.8620 - val_loss: 0.3070 - val_accuracy: 0.8813\n",
      "Epoch 70/100\n",
      "1022/1022 [==============================] - 0s 102us/sample - loss: 0.3231 - accuracy: 0.8640 - val_loss: 0.3045 - val_accuracy: 0.8813\n",
      "Epoch 71/100\n",
      "1022/1022 [==============================] - 0s 103us/sample - loss: 0.3216 - accuracy: 0.8620 - val_loss: 0.3026 - val_accuracy: 0.8767\n",
      "Epoch 72/100\n",
      "1022/1022 [==============================] - 0s 101us/sample - loss: 0.3203 - accuracy: 0.8630 - val_loss: 0.3014 - val_accuracy: 0.8813\n",
      "Epoch 73/100\n",
      "1022/1022 [==============================] - 0s 107us/sample - loss: 0.3190 - accuracy: 0.8699 - val_loss: 0.2993 - val_accuracy: 0.8858\n",
      "Epoch 74/100\n",
      "1022/1022 [==============================] - 0s 120us/sample - loss: 0.3181 - accuracy: 0.8669 - val_loss: 0.2980 - val_accuracy: 0.8813\n",
      "Epoch 75/100\n",
      "1022/1022 [==============================] - 0s 103us/sample - loss: 0.3149 - accuracy: 0.8699 - val_loss: 0.2964 - val_accuracy: 0.8858\n",
      "Epoch 76/100\n",
      "1022/1022 [==============================] - 0s 104us/sample - loss: 0.3154 - accuracy: 0.8669 - val_loss: 0.2945 - val_accuracy: 0.8813\n",
      "Epoch 77/100\n",
      "1022/1022 [==============================] - 0s 115us/sample - loss: 0.3137 - accuracy: 0.8679 - val_loss: 0.2931 - val_accuracy: 0.8858\n",
      "Epoch 78/100\n",
      "1022/1022 [==============================] - 0s 107us/sample - loss: 0.3124 - accuracy: 0.8689 - val_loss: 0.2916 - val_accuracy: 0.8813\n",
      "Epoch 79/100\n",
      "1022/1022 [==============================] - 0s 94us/sample - loss: 0.3117 - accuracy: 0.8689 - val_loss: 0.2904 - val_accuracy: 0.8858\n",
      "Epoch 80/100\n",
      "1022/1022 [==============================] - 0s 107us/sample - loss: 0.3102 - accuracy: 0.8689 - val_loss: 0.2889 - val_accuracy: 0.8858\n",
      "Epoch 81/100\n",
      "1022/1022 [==============================] - 0s 104us/sample - loss: 0.3091 - accuracy: 0.8708 - val_loss: 0.2877 - val_accuracy: 0.8858\n",
      "Epoch 82/100\n",
      "1022/1022 [==============================] - 0s 111us/sample - loss: 0.3077 - accuracy: 0.8728 - val_loss: 0.2863 - val_accuracy: 0.8858\n",
      "Epoch 83/100\n",
      "1022/1022 [==============================] - 0s 114us/sample - loss: 0.3069 - accuracy: 0.8728 - val_loss: 0.2855 - val_accuracy: 0.8858\n",
      "Epoch 84/100\n",
      "1022/1022 [==============================] - 0s 113us/sample - loss: 0.3062 - accuracy: 0.8718 - val_loss: 0.2838 - val_accuracy: 0.8904\n",
      "Epoch 85/100\n",
      "1022/1022 [==============================] - 0s 118us/sample - loss: 0.3053 - accuracy: 0.8728 - val_loss: 0.2827 - val_accuracy: 0.8904\n",
      "Epoch 86/100\n",
      "1022/1022 [==============================] - 0s 124us/sample - loss: 0.3036 - accuracy: 0.8738 - val_loss: 0.2815 - val_accuracy: 0.8904\n",
      "Epoch 87/100\n",
      "1022/1022 [==============================] - 0s 117us/sample - loss: 0.3034 - accuracy: 0.8728 - val_loss: 0.2804 - val_accuracy: 0.8904\n",
      "Epoch 88/100\n",
      "1022/1022 [==============================] - 0s 123us/sample - loss: 0.3019 - accuracy: 0.8738 - val_loss: 0.2792 - val_accuracy: 0.8904\n",
      "Epoch 89/100\n",
      "1022/1022 [==============================] - 0s 130us/sample - loss: 0.3001 - accuracy: 0.8767 - val_loss: 0.2801 - val_accuracy: 0.8813\n",
      "Epoch 90/100\n",
      "1022/1022 [==============================] - 0s 130us/sample - loss: 0.3006 - accuracy: 0.8708 - val_loss: 0.2772 - val_accuracy: 0.8904\n",
      "Epoch 91/100\n",
      "1022/1022 [==============================] - 0s 126us/sample - loss: 0.2995 - accuracy: 0.8738 - val_loss: 0.2762 - val_accuracy: 0.8904\n",
      "Epoch 92/100\n",
      "1022/1022 [==============================] - 0s 120us/sample - loss: 0.2985 - accuracy: 0.8738 - val_loss: 0.2759 - val_accuracy: 0.8858\n",
      "Epoch 93/100\n",
      "1022/1022 [==============================] - 0s 122us/sample - loss: 0.2982 - accuracy: 0.8738 - val_loss: 0.2741 - val_accuracy: 0.8904\n",
      "Epoch 94/100\n",
      "1022/1022 [==============================] - ETA: 0s - loss: 0.2879 - accuracy: 0.88 - 0s 126us/sample - loss: 0.2968 - accuracy: 0.8806 - val_loss: 0.2738 - val_accuracy: 0.8858\n",
      "Epoch 95/100\n",
      "1022/1022 [==============================] - 0s 130us/sample - loss: 0.2965 - accuracy: 0.8708 - val_loss: 0.2722 - val_accuracy: 0.8904\n",
      "Epoch 96/100\n",
      "1022/1022 [==============================] - 0s 128us/sample - loss: 0.2956 - accuracy: 0.8787 - val_loss: 0.2712 - val_accuracy: 0.8904\n",
      "Epoch 97/100\n",
      "1022/1022 [==============================] - 0s 140us/sample - loss: 0.2944 - accuracy: 0.8777 - val_loss: 0.2707 - val_accuracy: 0.8858\n",
      "Epoch 98/100\n",
      "1022/1022 [==============================] - 0s 131us/sample - loss: 0.2947 - accuracy: 0.8796 - val_loss: 0.2699 - val_accuracy: 0.8858\n",
      "Epoch 99/100\n",
      "1022/1022 [==============================] - 0s 123us/sample - loss: 0.2936 - accuracy: 0.8738 - val_loss: 0.2686 - val_accuracy: 0.8858\n",
      "Epoch 100/100\n",
      "1022/1022 [==============================] - 0s 120us/sample - loss: 0.2928 - accuracy: 0.8836 - val_loss: 0.2678 - val_accuracy: 0.8950\n"
     ]
    }
   ],
   "source": [
    "# Training the model\n",
    "hist = model.fit(X_train, Y_train, batch_size=32, epochs=100, validation_data=(X_val, Y_val))"
   ]
  },
  {
   "cell_type": "markdown",
   "metadata": {},
   "source": [
    "- batch_size : size of mini batch\n",
    "- epoch : how long we want to train the model"
   ]
  },
  {
   "cell_type": "code",
   "execution_count": null,
   "metadata": {},
   "outputs": [],
   "source": []
  },
  {
   "cell_type": "code",
   "execution_count": 17,
   "metadata": {},
   "outputs": [
    {
     "name": "stdout",
     "output_type": "stream",
     "text": [
      "219/1 [==========================================================================================================================================================================================================================================================================================================================================================================================================================================================================================================================================================================================================================================================================================================================================================================================================================================================================================================================================================================================================================================================================================================================================================================================================================================================================================================================================================================================================================================================================================================================================================================================================================================================================================================================================================================================================================================================================================================================================================================================================================================================================================================================================================================================================================================================================================================================================================================================================================================================================================================================================================================================================================================================================================================================================================================================================================================================================================================================================================================================================================================================================================================================================================================================================================================================================================================================================================================================================================================================================================================================================================================================================================================================================================================================================================================================================================================================================================================================================================================================================================================================================================================================================================================================================================================================================================================================================================================================================================================================================================================================================================================================================================================================================================================================================================================================================================================================================================================================================================================================================================================================================================================================================================================================================================================================================================================================================================================================================================================================================================================================================================================================================================================================================================================================================================================================================================================================================================================================================================================================================================================================================================================================================================================================================================================================================================================================================================================================================================================================================================================================================================================================================================================================================================================================================================================================================================================] - 0s 65us/sample - loss: 0.3454 - accuracy: 0.8858\n"
     ]
    },
    {
     "data": {
      "text/plain": [
       "0.88584477"
      ]
     },
     "execution_count": 17,
     "metadata": {},
     "output_type": "execute_result"
    }
   ],
   "source": [
    "# Evaluating the model\n",
    "model.evaluate(X_test, Y_test)[1] # index 1 beacuse this function returns at first index \"loss\" and at 2nd \"accuracy\""
   ]
  },
  {
   "cell_type": "code",
   "execution_count": null,
   "metadata": {},
   "outputs": [],
   "source": []
  },
  {
   "cell_type": "code",
   "execution_count": null,
   "metadata": {},
   "outputs": [],
   "source": []
  },
  {
   "cell_type": "markdown",
   "metadata": {},
   "source": [
    "# Visualizing Loss and Accuracy"
   ]
  },
  {
   "cell_type": "markdown",
   "metadata": {},
   "source": [
    "to see if there is any overfitting in our model."
   ]
  },
  {
   "cell_type": "code",
   "execution_count": 18,
   "metadata": {},
   "outputs": [],
   "source": [
    "import matplotlib.pyplot as plt\n",
    "%matplotlib inline"
   ]
  },
  {
   "cell_type": "code",
   "execution_count": 19,
   "metadata": {},
   "outputs": [
    {
     "data": {
      "image/png": "[encoded data removed]",
      "text/plain": [
       "<Figure size 432x288 with 1 Axes>"
      ]
     },
     "metadata": {
      "needs_background": "light"
     },
     "output_type": "display_data"
    }
   ],
   "source": [
    "# Training loss Vs. Validation loss\n",
    "plt.plot(hist.history[\"loss\"])\n",
    "plt.plot(hist.history[\"val_loss\"])\n",
    "plt.title(\"Model loss\")\n",
    "plt.ylabel(\"Loss\")\n",
    "plt.xlabel(\"Epoch\")\n",
    "plt.legend([\"Train\", \"Val\"], loc=\"upper right\")\n",
    "plt.show()"
   ]
  },
  {
   "cell_type": "code",
   "execution_count": null,
   "metadata": {},
   "outputs": [],
   "source": []
  },
  {
   "cell_type": "code",
   "execution_count": 20,
   "metadata": {},
   "outputs": [
    {
     "data": {
      "image/png": "[encoded data removed]",
      "text/plain": [
       "<Figure size 432x288 with 1 Axes>"
      ]
     },
     "metadata": {
      "needs_background": "light"
     },
     "output_type": "display_data"
    }
   ],
   "source": [
    "# Training accuracy and Validation accuracy\n",
    "plt.plot(hist.history[\"accuracy\"])\n",
    "plt.plot(hist.history[\"val_accuracy\"])\n",
    "plt.title(\"Model accuracy\")\n",
    "plt.ylabel(\"Accuracy\")\n",
    "plt.xlabel(\"Epoch\")\n",
    "plt.legend([\"Train\", \"Val\"], loc=\"lower right\")\n",
    "plt.show()"
   ]
  },
  {
   "cell_type": "code",
   "execution_count": null,
   "metadata": {},
   "outputs": [],
   "source": []
  },
  {
   "cell_type": "code",
   "execution_count": null,
   "metadata": {},
   "outputs": [],
   "source": []
  },
  {
   "cell_type": "markdown",
   "metadata": {},
   "source": [
    "# 1.4 Adding Regularization to our Neural Network"
   ]
  },
  {
   "cell_type": "markdown",
   "metadata": {},
   "source": [
    "For the sake of introducing regularization to our neural network, let’s formulate with a neural network that will badly overfit on our training set. We’ll call this Model_2"
   ]
  },
  {
   "cell_type": "code",
   "execution_count": 21,
   "metadata": {},
   "outputs": [
    {
     "name": "stdout",
     "output_type": "stream",
     "text": [
      "Train on 1022 samples, validate on 219 samples\n",
      "Epoch 1/100\n",
      "WARNING:tensorflow:Entity <function Function._initialize_uninitialized_variables.<locals>.initialize_variables at 0x7fc250307bf8> could not be transformed and will be executed as-is. Please report this to the AutoGraph team. When filing the bug, set the verbosity to 10 (on Linux, `export AUTOGRAPH_VERBOSITY=10`) and attach the full output. Cause: module 'gast' has no attribute 'Num'\n",
      "WARNING: Entity <function Function._initialize_uninitialized_variables.<locals>.initialize_variables at 0x7fc250307bf8> could not be transformed and will be executed as-is. Please report this to the AutoGraph team. When filing the bug, set the verbosity to 10 (on Linux, `export AUTOGRAPH_VERBOSITY=10`) and attach the full output. Cause: module 'gast' has no attribute 'Num'\n",
      "1022/1022 [==============================] - 2s 2ms/sample - loss: 0.4813 - accuracy: 0.7603 - val_loss: 0.3412 - val_accuracy: 0.8767\n",
      "Epoch 2/100\n",
      "1022/1022 [==============================] - 1s 573us/sample - loss: 0.3349 - accuracy: 0.8620 - val_loss: 0.2860 - val_accuracy: 0.8904\n",
      "Epoch 3/100\n",
      "1022/1022 [==============================] - 1s 547us/sample - loss: 0.3195 - accuracy: 0.8640 - val_loss: 0.3039 - val_accuracy: 0.8858\n",
      "Epoch 4/100\n",
      "1022/1022 [==============================] - 1s 520us/sample - loss: 0.2881 - accuracy: 0.8836 - val_loss: 0.2198 - val_accuracy: 0.8995\n",
      "Epoch 5/100\n",
      "1022/1022 [==============================] - 1s 498us/sample - loss: 0.2786 - accuracy: 0.8875 - val_loss: 0.2632 - val_accuracy: 0.8995\n",
      "Epoch 6/100\n",
      "1022/1022 [==============================] - 1s 523us/sample - loss: 0.2732 - accuracy: 0.8816 - val_loss: 0.2305 - val_accuracy: 0.9041\n",
      "Epoch 7/100\n",
      "1022/1022 [==============================] - 1s 551us/sample - loss: 0.2584 - accuracy: 0.8904 - val_loss: 0.2614 - val_accuracy: 0.8858\n",
      "Epoch 8/100\n",
      "1022/1022 [==============================] - 1s 554us/sample - loss: 0.2588 - accuracy: 0.8924 - val_loss: 0.2650 - val_accuracy: 0.8950\n",
      "Epoch 9/100\n",
      "1022/1022 [==============================] - 1s 553us/sample - loss: 0.2782 - accuracy: 0.8826 - val_loss: 0.2113 - val_accuracy: 0.9132\n",
      "Epoch 10/100\n",
      "1022/1022 [==============================] - 1s 568us/sample - loss: 0.2468 - accuracy: 0.8953 - val_loss: 0.2210 - val_accuracy: 0.8995\n",
      "Epoch 11/100\n",
      "1022/1022 [==============================] - 1s 568us/sample - loss: 0.2553 - accuracy: 0.8953 - val_loss: 0.1974 - val_accuracy: 0.9178\n",
      "Epoch 12/100\n",
      "1022/1022 [==============================] - 1s 553us/sample - loss: 0.2260 - accuracy: 0.9041 - val_loss: 0.2262 - val_accuracy: 0.8995\n",
      "Epoch 13/100\n",
      "1022/1022 [==============================] - 1s 516us/sample - loss: 0.2563 - accuracy: 0.8875 - val_loss: 0.2473 - val_accuracy: 0.8813\n",
      "Epoch 14/100\n",
      "1022/1022 [==============================] - 1s 519us/sample - loss: 0.2523 - accuracy: 0.8943 - val_loss: 0.1936 - val_accuracy: 0.9041\n",
      "Epoch 15/100\n",
      "1022/1022 [==============================] - 1s 555us/sample - loss: 0.2475 - accuracy: 0.8855 - val_loss: 0.1968 - val_accuracy: 0.9224\n",
      "Epoch 16/100\n",
      "1022/1022 [==============================] - 1s 541us/sample - loss: 0.2263 - accuracy: 0.9012 - val_loss: 0.1947 - val_accuracy: 0.9178\n",
      "Epoch 17/100\n",
      "1022/1022 [==============================] - 1s 518us/sample - loss: 0.2428 - accuracy: 0.8933 - val_loss: 0.2295 - val_accuracy: 0.8813\n",
      "Epoch 18/100\n",
      "1022/1022 [==============================] - 0s 461us/sample - loss: 0.2356 - accuracy: 0.9022 - val_loss: 0.2532 - val_accuracy: 0.8813\n",
      "Epoch 19/100\n",
      "1022/1022 [==============================] - 1s 515us/sample - loss: 0.2252 - accuracy: 0.9061 - val_loss: 0.2092 - val_accuracy: 0.9041\n",
      "Epoch 20/100\n",
      "1022/1022 [==============================] - 1s 565us/sample - loss: 0.2142 - accuracy: 0.9217 - val_loss: 0.2008 - val_accuracy: 0.9178\n",
      "Epoch 21/100\n",
      "1022/1022 [==============================] - 1s 548us/sample - loss: 0.2155 - accuracy: 0.9061 - val_loss: 0.3189 - val_accuracy: 0.8539\n",
      "Epoch 22/100\n",
      "1022/1022 [==============================] - 1s 542us/sample - loss: 0.2588 - accuracy: 0.9002 - val_loss: 0.2105 - val_accuracy: 0.9087\n",
      "Epoch 23/100\n",
      "1022/1022 [==============================] - 0s 466us/sample - loss: 0.2192 - accuracy: 0.9100 - val_loss: 0.1941 - val_accuracy: 0.9269\n",
      "Epoch 24/100\n",
      "1022/1022 [==============================] - 0s 488us/sample - loss: 0.2060 - accuracy: 0.9080 - val_loss: 0.2001 - val_accuracy: 0.9132\n",
      "Epoch 25/100\n",
      "1022/1022 [==============================] - 1s 539us/sample - loss: 0.2206 - accuracy: 0.9061 - val_loss: 0.1839 - val_accuracy: 0.9361\n",
      "Epoch 26/100\n",
      "1022/1022 [==============================] - 1s 539us/sample - loss: 0.2184 - accuracy: 0.9070 - val_loss: 0.1973 - val_accuracy: 0.9361\n",
      "Epoch 27/100\n",
      "1022/1022 [==============================] - 1s 527us/sample - loss: 0.2053 - accuracy: 0.9119 - val_loss: 0.1935 - val_accuracy: 0.8995\n",
      "Epoch 28/100\n",
      "1022/1022 [==============================] - 1s 558us/sample - loss: 0.2026 - accuracy: 0.9110 - val_loss: 0.2095 - val_accuracy: 0.9178\n",
      "Epoch 29/100\n",
      "1022/1022 [==============================] - 0s 474us/sample - loss: 0.1963 - accuracy: 0.9100 - val_loss: 0.2054 - val_accuracy: 0.9315\n",
      "Epoch 30/100\n",
      "1022/1022 [==============================] - 0s 477us/sample - loss: 0.2061 - accuracy: 0.9119 - val_loss: 0.2103 - val_accuracy: 0.9087\n",
      "Epoch 31/100\n",
      "1022/1022 [==============================] - 1s 489us/sample - loss: 0.2079 - accuracy: 0.9061 - val_loss: 0.2037 - val_accuracy: 0.9087\n",
      "Epoch 32/100\n",
      "1022/1022 [==============================] - 1s 552us/sample - loss: 0.2114 - accuracy: 0.9080 - val_loss: 0.2061 - val_accuracy: 0.9132\n",
      "Epoch 33/100\n",
      "1022/1022 [==============================] - 1s 527us/sample - loss: 0.2160 - accuracy: 0.9119 - val_loss: 0.2043 - val_accuracy: 0.9315\n",
      "Epoch 34/100\n",
      "1022/1022 [==============================] - 1s 534us/sample - loss: 0.1958 - accuracy: 0.9198 - val_loss: 0.1873 - val_accuracy: 0.9224\n",
      "Epoch 35/100\n",
      "1022/1022 [==============================] - 1s 507us/sample - loss: 0.1821 - accuracy: 0.9188 - val_loss: 0.2014 - val_accuracy: 0.9406\n",
      "Epoch 36/100\n",
      "1022/1022 [==============================] - 1s 519us/sample - loss: 0.2104 - accuracy: 0.9022 - val_loss: 0.1954 - val_accuracy: 0.9224\n",
      "Epoch 37/100\n",
      "1022/1022 [==============================] - 1s 522us/sample - loss: 0.1958 - accuracy: 0.9159 - val_loss: 0.2156 - val_accuracy: 0.9224\n",
      "Epoch 38/100\n",
      "1022/1022 [==============================] - 1s 508us/sample - loss: 0.2052 - accuracy: 0.9207 - val_loss: 0.1979 - val_accuracy: 0.9224\n",
      "Epoch 39/100\n",
      "1022/1022 [==============================] - 1s 534us/sample - loss: 0.1745 - accuracy: 0.9217 - val_loss: 0.2163 - val_accuracy: 0.9178\n",
      "Epoch 40/100\n",
      "1022/1022 [==============================] - 1s 492us/sample - loss: 0.1908 - accuracy: 0.9090 - val_loss: 0.2200 - val_accuracy: 0.9224\n",
      "Epoch 41/100\n",
      "1022/1022 [==============================] - 0s 470us/sample - loss: 0.2173 - accuracy: 0.9041 - val_loss: 0.2161 - val_accuracy: 0.9269\n",
      "Epoch 42/100\n",
      "1022/1022 [==============================] - 0s 441us/sample - loss: 0.1843 - accuracy: 0.9295 - val_loss: 0.2005 - val_accuracy: 0.9178\n",
      "Epoch 43/100\n",
      "1022/1022 [==============================] - 0s 471us/sample - loss: 0.1886 - accuracy: 0.9237 - val_loss: 0.1999 - val_accuracy: 0.9224\n",
      "Epoch 44/100\n",
      "1022/1022 [==============================] - 0s 457us/sample - loss: 0.1858 - accuracy: 0.9227 - val_loss: 0.2268 - val_accuracy: 0.9087\n",
      "Epoch 45/100\n",
      "1022/1022 [==============================] - 1s 506us/sample - loss: 0.1815 - accuracy: 0.9256 - val_loss: 0.1859 - val_accuracy: 0.9269\n",
      "Epoch 46/100\n",
      "1022/1022 [==============================] - 1s 515us/sample - loss: 0.1786 - accuracy: 0.9266 - val_loss: 0.1896 - val_accuracy: 0.9224\n",
      "Epoch 47/100\n",
      "1022/1022 [==============================] - 1s 497us/sample - loss: 0.1878 - accuracy: 0.9276 - val_loss: 0.2482 - val_accuracy: 0.8950\n",
      "Epoch 48/100\n",
      "1022/1022 [==============================] - 0s 451us/sample - loss: 0.1833 - accuracy: 0.9139 - val_loss: 0.2295 - val_accuracy: 0.9087\n",
      "Epoch 49/100\n",
      "1022/1022 [==============================] - 0s 415us/sample - loss: 0.1946 - accuracy: 0.9178 - val_loss: 0.2070 - val_accuracy: 0.9132\n",
      "Epoch 50/100\n",
      "1022/1022 [==============================] - 0s 437us/sample - loss: 0.1787 - accuracy: 0.9286 - val_loss: 0.2171 - val_accuracy: 0.8995\n",
      "Epoch 51/100\n",
      "1022/1022 [==============================] - 0s 433us/sample - loss: 0.1766 - accuracy: 0.9266 - val_loss: 0.2517 - val_accuracy: 0.9041\n",
      "Epoch 52/100\n",
      "1022/1022 [==============================] - 1s 490us/sample - loss: 0.1593 - accuracy: 0.9295 - val_loss: 0.2277 - val_accuracy: 0.9269\n",
      "Epoch 53/100\n",
      "1022/1022 [==============================] - 1s 515us/sample - loss: 0.1699 - accuracy: 0.9286 - val_loss: 0.1879 - val_accuracy: 0.9224\n",
      "Epoch 54/100\n",
      "1022/1022 [==============================] - 1s 523us/sample - loss: 0.1821 - accuracy: 0.9217 - val_loss: 0.2279 - val_accuracy: 0.9361\n",
      "Epoch 55/100\n",
      "1022/1022 [==============================] - 1s 552us/sample - loss: 0.1429 - accuracy: 0.9393 - val_loss: 0.2106 - val_accuracy: 0.9132\n",
      "Epoch 56/100\n",
      "1022/1022 [==============================] - 1s 579us/sample - loss: 0.1598 - accuracy: 0.9374 - val_loss: 0.2821 - val_accuracy: 0.9315\n",
      "Epoch 57/100\n",
      "1022/1022 [==============================] - 1s 580us/sample - loss: 0.1856 - accuracy: 0.9168 - val_loss: 0.2103 - val_accuracy: 0.9269\n",
      "Epoch 58/100\n",
      "1022/1022 [==============================] - 1s 530us/sample - loss: 0.1830 - accuracy: 0.9237 - val_loss: 0.2027 - val_accuracy: 0.9224\n",
      "Epoch 59/100\n",
      "1022/1022 [==============================] - 0s 474us/sample - loss: 0.1622 - accuracy: 0.9354 - val_loss: 0.2329 - val_accuracy: 0.9132\n",
      "Epoch 60/100\n",
      "1022/1022 [==============================] - 0s 475us/sample - loss: 0.1610 - accuracy: 0.9315 - val_loss: 0.2214 - val_accuracy: 0.9132\n",
      "Epoch 61/100\n",
      "1022/1022 [==============================] - 0s 484us/sample - loss: 0.1492 - accuracy: 0.9384 - val_loss: 0.2289 - val_accuracy: 0.9178\n",
      "Epoch 62/100\n",
      "1022/1022 [==============================] - 0s 458us/sample - loss: 0.1542 - accuracy: 0.9374 - val_loss: 0.2326 - val_accuracy: 0.9132\n",
      "Epoch 63/100\n",
      "1022/1022 [==============================] - 0s 450us/sample - loss: 0.2036 - accuracy: 0.9139 - val_loss: 0.2198 - val_accuracy: 0.9315\n",
      "Epoch 64/100\n",
      "1022/1022 [==============================] - 1s 491us/sample - loss: 0.1562 - accuracy: 0.9315 - val_loss: 0.2420 - val_accuracy: 0.9132\n",
      "Epoch 65/100\n",
      "1022/1022 [==============================] - 1s 508us/sample - loss: 0.1601 - accuracy: 0.9315 - val_loss: 0.2495 - val_accuracy: 0.8995\n",
      "Epoch 66/100\n",
      "1022/1022 [==============================] - 0s 474us/sample - loss: 0.1719 - accuracy: 0.9247 - val_loss: 0.2579 - val_accuracy: 0.8995\n",
      "Epoch 67/100\n",
      "1022/1022 [==============================] - 1s 493us/sample - loss: 0.1796 - accuracy: 0.9305 - val_loss: 0.2391 - val_accuracy: 0.9087\n",
      "Epoch 68/100\n",
      "1022/1022 [==============================] - 0s 474us/sample - loss: 0.1667 - accuracy: 0.9295 - val_loss: 0.2129 - val_accuracy: 0.9178\n",
      "Epoch 69/100\n",
      "1022/1022 [==============================] - 0s 446us/sample - loss: 0.1417 - accuracy: 0.9335 - val_loss: 0.2140 - val_accuracy: 0.9269\n",
      "Epoch 70/100\n",
      "1022/1022 [==============================] - 0s 476us/sample - loss: 0.1689 - accuracy: 0.9295 - val_loss: 0.2016 - val_accuracy: 0.9361\n",
      "Epoch 71/100\n",
      "1022/1022 [==============================] - 1s 493us/sample - loss: 0.1353 - accuracy: 0.9481 - val_loss: 0.2224 - val_accuracy: 0.9041\n",
      "Epoch 72/100\n",
      "1022/1022 [==============================] - 0s 488us/sample - loss: 0.1284 - accuracy: 0.9491 - val_loss: 0.2566 - val_accuracy: 0.9224\n",
      "Epoch 73/100\n",
      "1022/1022 [==============================] - 1s 530us/sample - loss: 0.1438 - accuracy: 0.9384 - val_loss: 0.2665 - val_accuracy: 0.9178\n",
      "Epoch 74/100\n",
      "1022/1022 [==============================] - 1s 511us/sample - loss: 0.1626 - accuracy: 0.9344 - val_loss: 0.2290 - val_accuracy: 0.9132\n",
      "Epoch 75/100\n",
      "1022/1022 [==============================] - 1s 527us/sample - loss: 0.1404 - accuracy: 0.9413 - val_loss: 0.2477 - val_accuracy: 0.9178\n",
      "Epoch 76/100\n",
      "1022/1022 [==============================] - 0s 476us/sample - loss: 0.1541 - accuracy: 0.9364 - val_loss: 0.3603 - val_accuracy: 0.8721\n",
      "Epoch 77/100\n",
      "1022/1022 [==============================] - ETA: 0s - loss: 0.1505 - accuracy: 0.94 - 0s 473us/sample - loss: 0.1521 - accuracy: 0.9472 - val_loss: 0.2501 - val_accuracy: 0.9315\n",
      "Epoch 78/100\n",
      "1022/1022 [==============================] - 0s 460us/sample - loss: 0.1396 - accuracy: 0.9462 - val_loss: 0.2500 - val_accuracy: 0.9224\n",
      "Epoch 79/100\n",
      "1022/1022 [==============================] - 0s 479us/sample - loss: 0.1394 - accuracy: 0.9413 - val_loss: 0.2265 - val_accuracy: 0.9224\n",
      "Epoch 80/100\n",
      "1022/1022 [==============================] - 0s 468us/sample - loss: 0.1278 - accuracy: 0.9511 - val_loss: 0.2776 - val_accuracy: 0.9087\n",
      "Epoch 81/100\n",
      "1022/1022 [==============================] - 0s 484us/sample - loss: 0.1502 - accuracy: 0.9315 - val_loss: 0.2359 - val_accuracy: 0.9087\n",
      "Epoch 82/100\n",
      "1022/1022 [==============================] - 0s 457us/sample - loss: 0.1334 - accuracy: 0.9491 - val_loss: 0.2159 - val_accuracy: 0.9132\n",
      "Epoch 83/100\n",
      "1022/1022 [==============================] - 0s 461us/sample - loss: 0.1550 - accuracy: 0.9354 - val_loss: 0.2184 - val_accuracy: 0.9224\n",
      "Epoch 84/100\n",
      "1022/1022 [==============================] - 0s 485us/sample - loss: 0.1284 - accuracy: 0.9530 - val_loss: 0.2414 - val_accuracy: 0.9269\n",
      "Epoch 85/100\n",
      "1022/1022 [==============================] - 0s 461us/sample - loss: 0.1175 - accuracy: 0.9550 - val_loss: 0.2295 - val_accuracy: 0.9315\n",
      "Epoch 86/100\n",
      "1022/1022 [==============================] - 1s 497us/sample - loss: 0.1270 - accuracy: 0.9530 - val_loss: 0.2900 - val_accuracy: 0.9087\n",
      "Epoch 87/100\n",
      "1022/1022 [==============================] - 0s 473us/sample - loss: 0.1316 - accuracy: 0.9423 - val_loss: 0.2686 - val_accuracy: 0.9132\n",
      "Epoch 88/100\n",
      "1022/1022 [==============================] - 1s 509us/sample - loss: 0.1763 - accuracy: 0.9344 - val_loss: 0.2075 - val_accuracy: 0.9224\n",
      "Epoch 89/100\n",
      "1022/1022 [==============================] - 0s 449us/sample - loss: 0.1742 - accuracy: 0.9305 - val_loss: 0.2076 - val_accuracy: 0.9132\n",
      "Epoch 90/100\n",
      "1022/1022 [==============================] - 0s 468us/sample - loss: 0.1446 - accuracy: 0.9403 - val_loss: 0.2110 - val_accuracy: 0.9315\n",
      "Epoch 91/100\n",
      "1022/1022 [==============================] - 1s 503us/sample - loss: 0.1148 - accuracy: 0.9550 - val_loss: 0.2662 - val_accuracy: 0.8904\n",
      "Epoch 92/100\n",
      "1022/1022 [==============================] - 1s 496us/sample - loss: 0.1162 - accuracy: 0.9521 - val_loss: 0.2582 - val_accuracy: 0.9087\n",
      "Epoch 93/100\n",
      "1022/1022 [==============================] - 1s 507us/sample - loss: 0.1158 - accuracy: 0.9540 - val_loss: 0.2675 - val_accuracy: 0.9178\n",
      "Epoch 94/100\n",
      "1022/1022 [==============================] - 0s 442us/sample - loss: 0.1209 - accuracy: 0.9521 - val_loss: 0.2568 - val_accuracy: 0.9269\n",
      "Epoch 95/100\n",
      "1022/1022 [==============================] - 0s 467us/sample - loss: 0.0927 - accuracy: 0.9628 - val_loss: 0.3121 - val_accuracy: 0.9132\n",
      "Epoch 96/100\n",
      "1022/1022 [==============================] - 0s 471us/sample - loss: 0.0987 - accuracy: 0.9658 - val_loss: 0.2820 - val_accuracy: 0.9315\n",
      "Epoch 97/100\n",
      "1022/1022 [==============================] - 1s 500us/sample - loss: 0.1020 - accuracy: 0.9569 - val_loss: 0.2906 - val_accuracy: 0.9087\n",
      "Epoch 98/100\n",
      "1022/1022 [==============================] - 0s 472us/sample - loss: 0.1188 - accuracy: 0.9589 - val_loss: 0.2557 - val_accuracy: 0.9224\n",
      "Epoch 99/100\n",
      "1022/1022 [==============================] - 0s 478us/sample - loss: 0.1146 - accuracy: 0.9579 - val_loss: 0.4694 - val_accuracy: 0.8950\n",
      "Epoch 100/100\n",
      "1022/1022 [==============================] - 0s 459us/sample - loss: 0.1730 - accuracy: 0.9295 - val_loss: 0.2390 - val_accuracy: 0.9269\n"
     ]
    }
   ],
   "source": [
    "model_2=tf.keras.Sequential([keras.layers.Dense(1000, activation=\"relu\", input_shape=(10,)),\n",
    "                            keras.layers.Dense(1000, activation=\"relu\"),\n",
    "                            keras.layers.Dense(1000, activation=\"relu\"),\n",
    "                            keras.layers.Dense(1000, activation=\"relu\"),\n",
    "                            keras.layers.Dense(1, activation=\"sigmoid\")])\n",
    "\n",
    "model_2.compile(optimizer=\"adam\", loss=\"binary_crossentropy\", metrics=[\"accuracy\"])\n",
    "\n",
    "hist_2 = model_2.fit(X_train, Y_train, batch_size=32, epochs=100, validation_data=(X_val, Y_val))"
   ]
  },
  {
   "cell_type": "markdown",
   "metadata": {},
   "source": [
    "Here, we’ve made a much larger model and we’ve use the Adam optimizer. Adam is one of the most common optimizers we use, which adds some tweaks to stochastic gradient descent such that it reaches the lower loss function faster. "
   ]
  },
  {
   "cell_type": "code",
   "execution_count": 22,
   "metadata": {},
   "outputs": [
    {
     "data": {
      "image/png": "[encoded data removed]",
      "text/plain": [
       "<Figure size 432x288 with 1 Axes>"
      ]
     },
     "metadata": {
      "needs_background": "light"
     },
     "output_type": "display_data"
    }
   ],
   "source": [
    "# loss Vs. val_loss\n",
    "plt.plot(hist_2.history['loss'])\n",
    "plt.plot(hist_2.history['val_loss'])\n",
    "plt.title('Model loss')\n",
    "plt.ylabel('Loss')\n",
    "plt.xlabel('Epoch')\n",
    "plt.legend(['Train', 'Val'], loc='upper right')\n",
    "plt.show()"
   ]
  },
  {
   "cell_type": "markdown",
   "metadata": {},
   "source": [
    "This is a clear sign of over-fitting. The training loss is decreasing, but the validation loss is way above the training loss and increasing (past the inflection point of Epoch 20). If we plot accuracy using the code below:"
   ]
  },
  {
   "cell_type": "code",
   "execution_count": 23,
   "metadata": {},
   "outputs": [
    {
     "data": {
      "image/png": "[encoded data removed]",
      "text/plain": [
       "<Figure size 432x288 with 1 Axes>"
      ]
     },
     "metadata": {
      "needs_background": "light"
     },
     "output_type": "display_data"
    }
   ],
   "source": [
    "# Accuracy Vs. Val_accuracy\n",
    "plt.plot(hist_2.history[\"accuracy\"])\n",
    "plt.plot(hist_2.history[\"val_accuracy\"])\n",
    "plt.title(\"Model accuracy\")\n",
    "plt.ylabel(\"Accuracy\")\n",
    "plt.xlabel(\"Epoch\")\n",
    "plt.legend([\"Train\", \"Val\"], loc=\"lower right\")\n",
    "plt.show()"
   ]
  },
  {
   "cell_type": "markdown",
   "metadata": {},
   "source": [
    "Now, let’s try out some of our strategies to reduce over-fitting (apart from changing our architecture back to our first model)."
   ]
  },
  {
   "cell_type": "code",
   "execution_count": null,
   "metadata": {},
   "outputs": [],
   "source": []
  },
  {
   "cell_type": "code",
   "execution_count": null,
   "metadata": {},
   "outputs": [],
   "source": []
  },
  {
   "cell_type": "markdown",
   "metadata": {},
   "source": [
    "#### Reduction of overfitting!"
   ]
  },
  {
   "cell_type": "markdown",
   "metadata": {},
   "source": [
    "First, let’s import the code that we need for L2 regularization and dropout:"
   ]
  },
  {
   "cell_type": "code",
   "execution_count": 24,
   "metadata": {},
   "outputs": [],
   "source": [
    "from keras.layers import Dropout\n",
    "from keras import regularizers"
   ]
  },
  {
   "cell_type": "code",
   "execution_count": 25,
   "metadata": {},
   "outputs": [],
   "source": [
    "model_3 = tf.keras.Sequential()\n",
    "model_3.add(keras.layers.Dense(1000,activation='relu', kernel_regularizer=regularizers.l2(0.01), input_shape=(10,)))\n",
    "model_3.add(keras.layers.Dropout(0.3))\n",
    "model_3.add(keras.layers.Dense(1000, activation='relu', kernel_regularizer=regularizers.l2(0.01)))\n",
    "model_3.add(keras.layers.Dropout(0.3))\n",
    "model_3.add(keras.layers.Dense(1000, activation='relu', kernel_regularizer=regularizers.l2(0.01)))\n",
    "model_3.add(keras.layers.Dropout(0.3))\n",
    "model_3.add(keras.layers.Dense(1000, activation='relu', kernel_regularizer=regularizers.l2(0.01)))\n",
    "model_3.add(keras.layers.Dropout(0.3))\n",
    "model_3.add(keras.layers.Dense(1, activation='sigmoid', kernel_regularizer=regularizers.l2(0.01)))"
   ]
  },
  {
   "cell_type": "code",
   "execution_count": 26,
   "metadata": {},
   "outputs": [
    {
     "name": "stdout",
     "output_type": "stream",
     "text": [
      "Train on 1022 samples, validate on 219 samples\n",
      "Epoch 1/100\n",
      "WARNING:tensorflow:Entity <function Function._initialize_uninitialized_variables.<locals>.initialize_variables at 0x7fc2923c7d90> could not be transformed and will be executed as-is. Please report this to the AutoGraph team. When filing the bug, set the verbosity to 10 (on Linux, `export AUTOGRAPH_VERBOSITY=10`) and attach the full output. Cause: module 'gast' has no attribute 'Num'\n",
      "WARNING: Entity <function Function._initialize_uninitialized_variables.<locals>.initialize_variables at 0x7fc2923c7d90> could not be transformed and will be executed as-is. Please report this to the AutoGraph team. When filing the bug, set the verbosity to 10 (on Linux, `export AUTOGRAPH_VERBOSITY=10`) and attach the full output. Cause: module 'gast' has no attribute 'Num'\n",
      "1022/1022 [==============================] - 2s 2ms/sample - loss: 14.2298 - accuracy: 0.6213 - val_loss: 3.8621 - val_accuracy: 0.8265\n",
      "Epoch 2/100\n",
      "1022/1022 [==============================] - 1s 648us/sample - loss: 1.6809 - accuracy: 0.8102 - val_loss: 0.6511 - val_accuracy: 0.8767\n",
      "Epoch 3/100\n",
      "1022/1022 [==============================] - 1s 604us/sample - loss: 0.5998 - accuracy: 0.8425 - val_loss: 0.5728 - val_accuracy: 0.8311\n",
      "Epoch 4/100\n",
      "1022/1022 [==============================] - 1s 611us/sample - loss: 0.5427 - accuracy: 0.8591 - val_loss: 0.4594 - val_accuracy: 0.8904\n",
      "Epoch 5/100\n",
      "1022/1022 [==============================] - 1s 605us/sample - loss: 0.4952 - accuracy: 0.8689 - val_loss: 0.4997 - val_accuracy: 0.8721\n",
      "Epoch 6/100\n",
      "1022/1022 [==============================] - 1s 618us/sample - loss: 0.5054 - accuracy: 0.8611 - val_loss: 0.5004 - val_accuracy: 0.8539\n",
      "Epoch 7/100\n",
      "1022/1022 [==============================] - 1s 597us/sample - loss: 0.4801 - accuracy: 0.8689 - val_loss: 0.4302 - val_accuracy: 0.8950\n",
      "Epoch 8/100\n",
      "1022/1022 [==============================] - 1s 616us/sample - loss: 0.4864 - accuracy: 0.8728 - val_loss: 0.4405 - val_accuracy: 0.9087\n",
      "Epoch 9/100\n",
      "1022/1022 [==============================] - 1s 650us/sample - loss: 0.4855 - accuracy: 0.8767 - val_loss: 0.4332 - val_accuracy: 0.8858\n",
      "Epoch 10/100\n",
      "1022/1022 [==============================] - 1s 630us/sample - loss: 0.5065 - accuracy: 0.8464 - val_loss: 0.4695 - val_accuracy: 0.8721\n",
      "Epoch 11/100\n",
      "1022/1022 [==============================] - 1s 597us/sample - loss: 0.4670 - accuracy: 0.8816 - val_loss: 0.4255 - val_accuracy: 0.8858\n",
      "Epoch 12/100\n",
      "1022/1022 [==============================] - 1s 655us/sample - loss: 0.4747 - accuracy: 0.8699 - val_loss: 0.4391 - val_accuracy: 0.8904\n",
      "Epoch 13/100\n",
      "1022/1022 [==============================] - 1s 630us/sample - loss: 0.4554 - accuracy: 0.8748 - val_loss: 0.4155 - val_accuracy: 0.9041\n",
      "Epoch 14/100\n",
      "1022/1022 [==============================] - 1s 601us/sample - loss: 0.4581 - accuracy: 0.8718 - val_loss: 0.4100 - val_accuracy: 0.8858\n",
      "Epoch 15/100\n",
      "1022/1022 [==============================] - 1s 608us/sample - loss: 0.4419 - accuracy: 0.8845 - val_loss: 0.4430 - val_accuracy: 0.8904\n",
      "Epoch 16/100\n",
      "1022/1022 [==============================] - 1s 609us/sample - loss: 0.4557 - accuracy: 0.8777 - val_loss: 0.4109 - val_accuracy: 0.9041\n",
      "Epoch 17/100\n",
      "1022/1022 [==============================] - 1s 641us/sample - loss: 0.4534 - accuracy: 0.8699 - val_loss: 0.4546 - val_accuracy: 0.8767\n",
      "Epoch 18/100\n",
      "1022/1022 [==============================] - 1s 632us/sample - loss: 0.4697 - accuracy: 0.8669 - val_loss: 0.4277 - val_accuracy: 0.8904\n",
      "Epoch 19/100\n",
      "1022/1022 [==============================] - 1s 609us/sample - loss: 0.4451 - accuracy: 0.8855 - val_loss: 0.4205 - val_accuracy: 0.8950\n",
      "Epoch 20/100\n",
      "1022/1022 [==============================] - 1s 609us/sample - loss: 0.4529 - accuracy: 0.8699 - val_loss: 0.4074 - val_accuracy: 0.8858\n",
      "Epoch 21/100\n",
      "1022/1022 [==============================] - 1s 649us/sample - loss: 0.4598 - accuracy: 0.8757 - val_loss: 0.4049 - val_accuracy: 0.8858\n",
      "Epoch 22/100\n",
      "1022/1022 [==============================] - 1s 634us/sample - loss: 0.4446 - accuracy: 0.8845 - val_loss: 0.4064 - val_accuracy: 0.8995\n",
      "Epoch 23/100\n",
      "1022/1022 [==============================] - 1s 586us/sample - loss: 0.4573 - accuracy: 0.8767 - val_loss: 0.4299 - val_accuracy: 0.8950\n",
      "Epoch 24/100\n",
      "1022/1022 [==============================] - 1s 624us/sample - loss: 0.4500 - accuracy: 0.8708 - val_loss: 0.4095 - val_accuracy: 0.8904\n",
      "Epoch 25/100\n",
      "1022/1022 [==============================] - 1s 663us/sample - loss: 0.4407 - accuracy: 0.8836 - val_loss: 0.5251 - val_accuracy: 0.8219\n",
      "Epoch 26/100\n",
      "1022/1022 [==============================] - 1s 637us/sample - loss: 0.4764 - accuracy: 0.8620 - val_loss: 0.4043 - val_accuracy: 0.9087\n",
      "Epoch 27/100\n",
      "1022/1022 [==============================] - 1s 633us/sample - loss: 0.4496 - accuracy: 0.8748 - val_loss: 0.4063 - val_accuracy: 0.8995\n",
      "Epoch 28/100\n",
      "1022/1022 [==============================] - 1s 649us/sample - loss: 0.4536 - accuracy: 0.8806 - val_loss: 0.4204 - val_accuracy: 0.8858\n",
      "Epoch 29/100\n",
      "1022/1022 [==============================] - 1s 643us/sample - loss: 0.4319 - accuracy: 0.8816 - val_loss: 0.3968 - val_accuracy: 0.8995\n",
      "Epoch 30/100\n",
      "1022/1022 [==============================] - 1s 628us/sample - loss: 0.4337 - accuracy: 0.8796 - val_loss: 0.4353 - val_accuracy: 0.8813\n",
      "Epoch 31/100\n",
      "1022/1022 [==============================] - 1s 678us/sample - loss: 0.4492 - accuracy: 0.8718 - val_loss: 0.4223 - val_accuracy: 0.8904\n",
      "Epoch 32/100\n",
      "1022/1022 [==============================] - 1s 665us/sample - loss: 0.4414 - accuracy: 0.8767 - val_loss: 0.4033 - val_accuracy: 0.8904\n",
      "Epoch 33/100\n",
      "1022/1022 [==============================] - 1s 635us/sample - loss: 0.4365 - accuracy: 0.8826 - val_loss: 0.4022 - val_accuracy: 0.8904\n",
      "Epoch 34/100\n",
      "1022/1022 [==============================] - 1s 600us/sample - loss: 0.4390 - accuracy: 0.8757 - val_loss: 0.3958 - val_accuracy: 0.8950\n",
      "Epoch 35/100\n",
      "1022/1022 [==============================] - 1s 541us/sample - loss: 0.4403 - accuracy: 0.8728 - val_loss: 0.4054 - val_accuracy: 0.8950\n",
      "Epoch 36/100\n",
      "1022/1022 [==============================] - 1s 596us/sample - loss: 0.4266 - accuracy: 0.8875 - val_loss: 0.4112 - val_accuracy: 0.8950\n",
      "Epoch 37/100\n",
      "1022/1022 [==============================] - 1s 628us/sample - loss: 0.4443 - accuracy: 0.8826 - val_loss: 0.4107 - val_accuracy: 0.8950\n",
      "Epoch 38/100\n",
      "1022/1022 [==============================] - 1s 604us/sample - loss: 0.4508 - accuracy: 0.8757 - val_loss: 0.4362 - val_accuracy: 0.8813\n",
      "Epoch 39/100\n",
      "1022/1022 [==============================] - 1s 616us/sample - loss: 0.4472 - accuracy: 0.8679 - val_loss: 0.3948 - val_accuracy: 0.8950\n",
      "Epoch 40/100\n",
      "1022/1022 [==============================] - 1s 624us/sample - loss: 0.4447 - accuracy: 0.8748 - val_loss: 0.4008 - val_accuracy: 0.8950\n",
      "Epoch 41/100\n",
      "1022/1022 [==============================] - 1s 591us/sample - loss: 0.4442 - accuracy: 0.8757 - val_loss: 0.4028 - val_accuracy: 0.8995\n",
      "Epoch 42/100\n",
      "1022/1022 [==============================] - 1s 593us/sample - loss: 0.4444 - accuracy: 0.8699 - val_loss: 0.4084 - val_accuracy: 0.8904\n",
      "Epoch 43/100\n",
      "1022/1022 [==============================] - 1s 638us/sample - loss: 0.4383 - accuracy: 0.8748 - val_loss: 0.4119 - val_accuracy: 0.8858\n",
      "Epoch 44/100\n",
      "1022/1022 [==============================] - 1s 665us/sample - loss: 0.4275 - accuracy: 0.8885 - val_loss: 0.3994 - val_accuracy: 0.8950\n",
      "Epoch 45/100\n",
      "1022/1022 [==============================] - 1s 621us/sample - loss: 0.4537 - accuracy: 0.8816 - val_loss: 0.4434 - val_accuracy: 0.8767\n",
      "Epoch 46/100\n",
      "1022/1022 [==============================] - 1s 576us/sample - loss: 0.4388 - accuracy: 0.8845 - val_loss: 0.4074 - val_accuracy: 0.8904\n",
      "Epoch 47/100\n",
      "1022/1022 [==============================] - 1s 556us/sample - loss: 0.4325 - accuracy: 0.8894 - val_loss: 0.4110 - val_accuracy: 0.8858\n",
      "Epoch 48/100\n",
      "1022/1022 [==============================] - 1s 596us/sample - loss: 0.4355 - accuracy: 0.8806 - val_loss: 0.4068 - val_accuracy: 0.8904\n",
      "Epoch 49/100\n",
      "1022/1022 [==============================] - 1s 607us/sample - loss: 0.4375 - accuracy: 0.8826 - val_loss: 0.3961 - val_accuracy: 0.8950\n",
      "Epoch 50/100\n",
      "1022/1022 [==============================] - 1s 615us/sample - loss: 0.4381 - accuracy: 0.8816 - val_loss: 0.4438 - val_accuracy: 0.8813\n",
      "Epoch 51/100\n",
      "1022/1022 [==============================] - 1s 619us/sample - loss: 0.4467 - accuracy: 0.8738 - val_loss: 0.3952 - val_accuracy: 0.8950\n",
      "Epoch 52/100\n",
      "1022/1022 [==============================] - 1s 632us/sample - loss: 0.4310 - accuracy: 0.8865 - val_loss: 0.4014 - val_accuracy: 0.8950\n",
      "Epoch 53/100\n",
      "1022/1022 [==============================] - 1s 627us/sample - loss: 0.4421 - accuracy: 0.8796 - val_loss: 0.4151 - val_accuracy: 0.8858\n",
      "Epoch 54/100\n",
      "1022/1022 [==============================] - 1s 659us/sample - loss: 0.4448 - accuracy: 0.8777 - val_loss: 0.3973 - val_accuracy: 0.8950\n",
      "Epoch 55/100\n",
      "1022/1022 [==============================] - 1s 609us/sample - loss: 0.4410 - accuracy: 0.8845 - val_loss: 0.4087 - val_accuracy: 0.8904\n",
      "Epoch 56/100\n",
      "1022/1022 [==============================] - 1s 615us/sample - loss: 0.4354 - accuracy: 0.8738 - val_loss: 0.3929 - val_accuracy: 0.8995\n",
      "Epoch 57/100\n",
      "1022/1022 [==============================] - 1s 624us/sample - loss: 0.4373 - accuracy: 0.8806 - val_loss: 0.4096 - val_accuracy: 0.8904\n",
      "Epoch 58/100\n",
      "1022/1022 [==============================] - 1s 654us/sample - loss: 0.4396 - accuracy: 0.8806 - val_loss: 0.4020 - val_accuracy: 0.8950\n",
      "Epoch 59/100\n",
      "1022/1022 [==============================] - 1s 630us/sample - loss: 0.4408 - accuracy: 0.8757 - val_loss: 0.4161 - val_accuracy: 0.8858\n",
      "Epoch 60/100\n",
      "1022/1022 [==============================] - 1s 629us/sample - loss: 0.4581 - accuracy: 0.8708 - val_loss: 0.4268 - val_accuracy: 0.8813\n",
      "Epoch 61/100\n",
      "1022/1022 [==============================] - 1s 605us/sample - loss: 0.4349 - accuracy: 0.8757 - val_loss: 0.3966 - val_accuracy: 0.8950\n",
      "Epoch 62/100\n",
      "1022/1022 [==============================] - 1s 588us/sample - loss: 0.4332 - accuracy: 0.8738 - val_loss: 0.3950 - val_accuracy: 0.8904\n",
      "Epoch 63/100\n",
      "1022/1022 [==============================] - 1s 575us/sample - loss: 0.4538 - accuracy: 0.8748 - val_loss: 0.4327 - val_accuracy: 0.8767\n",
      "Epoch 64/100\n",
      "1022/1022 [==============================] - 1s 599us/sample - loss: 0.4383 - accuracy: 0.8796 - val_loss: 0.3983 - val_accuracy: 0.8950\n",
      "Epoch 65/100\n",
      "1022/1022 [==============================] - 1s 626us/sample - loss: 0.4234 - accuracy: 0.8806 - val_loss: 0.3965 - val_accuracy: 0.8904\n",
      "Epoch 66/100\n",
      "1022/1022 [==============================] - 1s 606us/sample - loss: 0.4497 - accuracy: 0.8777 - val_loss: 0.4110 - val_accuracy: 0.8995\n",
      "Epoch 67/100\n",
      "1022/1022 [==============================] - 1s 576us/sample - loss: 0.4425 - accuracy: 0.8728 - val_loss: 0.4046 - val_accuracy: 0.8904\n",
      "Epoch 68/100\n",
      "1022/1022 [==============================] - 1s 597us/sample - loss: 0.4412 - accuracy: 0.8777 - val_loss: 0.4069 - val_accuracy: 0.8904\n",
      "Epoch 69/100\n",
      "1022/1022 [==============================] - 1s 579us/sample - loss: 0.4358 - accuracy: 0.8826 - val_loss: 0.4047 - val_accuracy: 0.8995\n",
      "Epoch 70/100\n",
      "1022/1022 [==============================] - 1s 571us/sample - loss: 0.4398 - accuracy: 0.8699 - val_loss: 0.3959 - val_accuracy: 0.8995\n",
      "Epoch 71/100\n",
      "1022/1022 [==============================] - 1s 594us/sample - loss: 0.4346 - accuracy: 0.8787 - val_loss: 0.3986 - val_accuracy: 0.8995\n",
      "Epoch 72/100\n",
      "1022/1022 [==============================] - 1s 599us/sample - loss: 0.4303 - accuracy: 0.8806 - val_loss: 0.3939 - val_accuracy: 0.8950\n",
      "Epoch 73/100\n",
      "1022/1022 [==============================] - 1s 565us/sample - loss: 0.4477 - accuracy: 0.8708 - val_loss: 0.3977 - val_accuracy: 0.8858\n",
      "Epoch 74/100\n",
      "1022/1022 [==============================] - 1s 597us/sample - loss: 0.4433 - accuracy: 0.8777 - val_loss: 0.4029 - val_accuracy: 0.9041\n",
      "Epoch 75/100\n",
      "1022/1022 [==============================] - 1s 595us/sample - loss: 0.4337 - accuracy: 0.8865 - val_loss: 0.4022 - val_accuracy: 0.8995\n",
      "Epoch 76/100\n",
      "1022/1022 [==============================] - 1s 613us/sample - loss: 0.4460 - accuracy: 0.8787 - val_loss: 0.3971 - val_accuracy: 0.8950\n",
      "Epoch 77/100\n",
      "1022/1022 [==============================] - 1s 576us/sample - loss: 0.4251 - accuracy: 0.8796 - val_loss: 0.3920 - val_accuracy: 0.8995\n",
      "Epoch 78/100\n",
      "1022/1022 [==============================] - 1s 543us/sample - loss: 0.4318 - accuracy: 0.8806 - val_loss: 0.3921 - val_accuracy: 0.8950\n",
      "Epoch 79/100\n",
      "1022/1022 [==============================] - 1s 543us/sample - loss: 0.4265 - accuracy: 0.8806 - val_loss: 0.3942 - val_accuracy: 0.8950\n",
      "Epoch 80/100\n",
      "1022/1022 [==============================] - 1s 587us/sample - loss: 0.4348 - accuracy: 0.8806 - val_loss: 0.3925 - val_accuracy: 0.8950\n",
      "Epoch 81/100\n",
      "1022/1022 [==============================] - 1s 574us/sample - loss: 0.4574 - accuracy: 0.8640 - val_loss: 0.4073 - val_accuracy: 0.8904\n",
      "Epoch 82/100\n",
      "1022/1022 [==============================] - 1s 602us/sample - loss: 0.4510 - accuracy: 0.8708 - val_loss: 0.4366 - val_accuracy: 0.8721\n",
      "Epoch 83/100\n",
      "1022/1022 [==============================] - 1s 631us/sample - loss: 0.4266 - accuracy: 0.8845 - val_loss: 0.4041 - val_accuracy: 0.8904\n",
      "Epoch 84/100\n",
      "1022/1022 [==============================] - 1s 611us/sample - loss: 0.4438 - accuracy: 0.8757 - val_loss: 0.3958 - val_accuracy: 0.8995\n",
      "Epoch 85/100\n",
      "1022/1022 [==============================] - 1s 543us/sample - loss: 0.4458 - accuracy: 0.8777 - val_loss: 0.4068 - val_accuracy: 0.8995\n",
      "Epoch 86/100\n",
      "1022/1022 [==============================] - 1s 573us/sample - loss: 0.4315 - accuracy: 0.8855 - val_loss: 0.3911 - val_accuracy: 0.8950\n",
      "Epoch 87/100\n",
      "1022/1022 [==============================] - 1s 551us/sample - loss: 0.4450 - accuracy: 0.8748 - val_loss: 0.4107 - val_accuracy: 0.8858\n",
      "Epoch 88/100\n",
      "1022/1022 [==============================] - 1s 547us/sample - loss: 0.4320 - accuracy: 0.8826 - val_loss: 0.3999 - val_accuracy: 0.8904\n",
      "Epoch 89/100\n",
      "1022/1022 [==============================] - 1s 563us/sample - loss: 0.4201 - accuracy: 0.8953 - val_loss: 0.3991 - val_accuracy: 0.8995\n",
      "Epoch 90/100\n",
      "1022/1022 [==============================] - 1s 556us/sample - loss: 0.4410 - accuracy: 0.8718 - val_loss: 0.3948 - val_accuracy: 0.8950\n",
      "Epoch 91/100\n",
      "1022/1022 [==============================] - 1s 568us/sample - loss: 0.4443 - accuracy: 0.8640 - val_loss: 0.4087 - val_accuracy: 0.8995\n",
      "Epoch 92/100\n",
      "1022/1022 [==============================] - 1s 560us/sample - loss: 0.4687 - accuracy: 0.8591 - val_loss: 0.4231 - val_accuracy: 0.8950\n",
      "Epoch 93/100\n",
      "1022/1022 [==============================] - 1s 562us/sample - loss: 0.4268 - accuracy: 0.8875 - val_loss: 0.3951 - val_accuracy: 0.8904\n",
      "Epoch 94/100\n",
      "1022/1022 [==============================] - 1s 532us/sample - loss: 0.4281 - accuracy: 0.8836 - val_loss: 0.4001 - val_accuracy: 0.8995\n",
      "Epoch 95/100\n",
      "1022/1022 [==============================] - 1s 543us/sample - loss: 0.4428 - accuracy: 0.8787 - val_loss: 0.3931 - val_accuracy: 0.8950\n",
      "Epoch 96/100\n",
      "1022/1022 [==============================] - 1s 561us/sample - loss: 0.4374 - accuracy: 0.8787 - val_loss: 0.4018 - val_accuracy: 0.8950\n",
      "Epoch 97/100\n",
      "1022/1022 [==============================] - 1s 587us/sample - loss: 0.4349 - accuracy: 0.8826 - val_loss: 0.4009 - val_accuracy: 0.8995\n",
      "Epoch 98/100\n",
      "1022/1022 [==============================] - 1s 575us/sample - loss: 0.4305 - accuracy: 0.8904 - val_loss: 0.4103 - val_accuracy: 0.8904\n",
      "Epoch 99/100\n",
      "1022/1022 [==============================] - 1s 597us/sample - loss: 0.4319 - accuracy: 0.8796 - val_loss: 0.4094 - val_accuracy: 0.8904\n",
      "Epoch 100/100\n",
      "1022/1022 [==============================] - 1s 578us/sample - loss: 0.4324 - accuracy: 0.8708 - val_loss: 0.3923 - val_accuracy: 0.8995\n"
     ]
    }
   ],
   "source": [
    "# Compiling and Fitting\n",
    "\n",
    "model_3.compile(optimizer='adam',\n",
    "              loss='binary_crossentropy',\n",
    "              metrics=['accuracy'])\n",
    "hist_3 = model_3.fit(X_train, Y_train,\n",
    "          batch_size=32, epochs=100,\n",
    "          validation_data=(X_val, Y_val))"
   ]
  },
  {
   "cell_type": "code",
   "execution_count": 27,
   "metadata": {},
   "outputs": [
    {
     "data": {
      "image/png": "[encoded data removed]",
      "text/plain": [
       "<Figure size 432x288 with 1 Axes>"
      ]
     },
     "metadata": {
      "needs_background": "light"
     },
     "output_type": "display_data"
    }
   ],
   "source": [
    "# Plot of loss Vs. val_loss\n",
    "\n",
    "plt.plot(hist_3.history['loss'])\n",
    "plt.plot(hist_3.history['val_loss'])\n",
    "plt.title('Model loss')\n",
    "plt.ylabel('Loss')\n",
    "plt.xlabel('Epoch')\n",
    "plt.legend(['Train', 'Val'], loc='upper right')\n",
    "plt.ylim(top=1.2, bottom=0)\n",
    "plt.show()"
   ]
  },
  {
   "cell_type": "code",
   "execution_count": 28,
   "metadata": {},
   "outputs": [
    {
     "data": {
      "image/png": "[encoded data removed]",
      "text/plain": [
       "<Figure size 432x288 with 1 Axes>"
      ]
     },
     "metadata": {
      "needs_background": "light"
     },
     "output_type": "display_data"
    }
   ],
   "source": [
    "# Accuracy Vs. val_accuracy\n",
    "\n",
    "plt.plot(hist_3.history['accuracy'])\n",
    "plt.plot(hist_3.history['val_accuracy'])\n",
    "plt.title('Model accuracy')\n",
    "plt.ylabel('Accuracy')\n",
    "plt.xlabel('Epoch')\n",
    "plt.legend(['Train', 'Val'], loc='lower right')\n",
    "plt.show()"
   ]
  },
  {
   "cell_type": "markdown",
   "metadata": {},
   "source": [
    "Compared to our model in Model 2, we’ve reduced overfitting substantially! And that’s how we apply our regularization techniques to reduce overfitting to the training set.To deal with overfitting, we can code in the following strategies into our model each with about one line of code:\n",
    "- L2 Regularization\n",
    "- Dropout\n",
    "\n",
    "If we visualize the training / validation loss and accuracy, we can see that these additions have helped deal with overfitting!"
   ]
  },
  {
   "cell_type": "code",
   "execution_count": null,
   "metadata": {},
   "outputs": [],
   "source": []
  }
 ],
 "metadata": {
  "kernelspec": {
   "display_name": "Python 3",
   "language": "python",
   "name": "python3"
  },
  "language_info": {
   "codemirror_mode": {
    "name": "ipython",
    "version": 3
   },
   "file_extension": ".py",
   "mimetype": "text/x-python",
   "name": "python",
   "nbconvert_exporter": "python",
   "pygments_lexer": "ipython3",
   "version": "3.7.3"
  }
 },
 "nbformat": 4,
 "nbformat_minor": 2
}
